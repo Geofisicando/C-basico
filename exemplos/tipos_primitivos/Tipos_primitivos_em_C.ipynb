{
 "cells": [
  {
   "cell_type": "markdown",
   "metadata": {},
   "source": [
    "## Tipos primitivos em C\n",
    "\n",
    "#### Introdução\n",
    "\n",
    "Na geladeira temos recipientes específicos para produtos específicos (exemplo, copos, garrafas, bandeja de ovos, etc.). Na programação em C é necessário saber aquilo que queremos guardar e selecionar os melhores \"recipientes\" para a tarefa.\n",
    "\n",
    "Estes recipientes são: **char, int, float, double**"
   ]
  },
  {
   "cell_type": "markdown",
   "metadata": {},
   "source": [
    "#### Variáveis\n",
    "\n",
    "Uma **variável** é um nome associado a uma posição de memória. O tipo está associado ao número de bytes que serão utilizados para armazenar o valor da variável.\n",
    "\n",
    "Os nomes de variáveis podem ter:\n",
    "\n",
    "- Letras Maiúsculas e minúsculas, dígitos [0-9], _\n",
    "- O primeiro caractere não pode ser um dígito\n",
    "- C é case sensitive\n",
    "- Não pode ser uma palavra reservada\n",
    "- Sem acentos ou 'ç'\n",
    "\n",
    "Sempre que uma variável é declarada, estamos solicitando ao compilador que reserve espaço em memória para armazená-la. Esse espaço será referenciado pelo nome da variável."
   ]
  },
  {
   "cell_type": "markdown",
   "metadata": {},
   "source": [
    "```c\n",
    "#include <stdio.h>\n",
    "\n",
    "int main(){\n",
    "\n",
    "int x;\n",
    "float f;\n",
    "char c;\n",
    "\n",
    "}\n",
    "```"
   ]
  },
  {
   "cell_type": "markdown",
   "metadata": {},
   "source": [
    "#### Atribuição"
   ]
  },
  {
   "cell_type": "markdown",
   "metadata": {},
   "source": [
    "```c\n",
    "int x;\n",
    "x=10;\n",
    "```\n",
    "\n",
    "Na mesma linha:\n",
    "\n",
    "```c\n",
    "int x = 10;\n",
    "```"
   ]
  },
  {
   "cell_type": "markdown",
   "metadata": {},
   "source": [
    "#### Tipo int\n",
    "\n",
    "Armazenar valores que pertencem ao conjunto dos números inteiros. Qualquer operação entre inteiros irá retornar um número inteiro.\n",
    "\n",
    "```c\n",
    "21%4=1 \n",
    "\n",
    "21/4=5\n",
    "```\n",
    "\n",
    "Exibir inteiro com _printf_:"
   ]
  },
  {
   "cell_type": "code",
   "execution_count": 8,
   "metadata": {},
   "outputs": [
    {
     "name": "stdout",
     "output_type": "stream",
     "text": [
      "21/4=5 21%4=1\n"
     ]
    }
   ],
   "source": [
    "#include <stdio.h>\n",
    "\n",
    "int main(){\n",
    "    \n",
    "    int num=21/4;\n",
    "    int rest=21%4;\n",
    "    \n",
    "    printf(\"21/4=%d 21%%4=%d\\n\",num,rest);\n",
    "}"
   ]
  },
  {
   "cell_type": "markdown",
   "metadata": {},
   "source": [
    "Ler inteiro com _scanf_:\n",
    "\n",
    "```c\n",
    "#include <stdio.h>\n",
    "\n",
    "int main(){\n",
    "    \n",
    "    int num;\n",
    "    printf(\"Introduza um número inteiro: \");\n",
    "    scanf(\"%d\",&num);\n",
    "    printf(\"num=%d\\n\",num);\n",
    "\n",
    "}\n",
    "```"
   ]
  },
  {
   "cell_type": "markdown",
   "metadata": {},
   "source": [
    "#### Operador sizeof\n",
    "\n",
    "Oferece o tamanho em bytes de um tipo de variável qualquer. Este operador também é útil para a alocação dinâmica com a função _malloc_. Sua utilização é feita da seguinte maneira:\n",
    "\n",
    "```c\n",
    "sizeof(int);\n",
    "\n",
    "sizeof(float);\n",
    "\n",
    "sizeof(var);\n",
    "```"
   ]
  },
  {
   "cell_type": "markdown",
   "metadata": {},
   "source": [
    "#### Prefixos do tipo int\n",
    "\n",
    "Na matemática, podemos representar um número com uma quantidade arbitrária de algorismos. Porém, o computador possui memória limitada, e consequentemente possui um limite de quantos algarismos pode armazenar em uma variável do tipo _int_.\n",
    "\n",
    "Para garantir que um programa sempre utilize determinado número de bytes para um inteiro, podemos utilizar 4 prefixos para melhor definição do tamanho do inteiro:\n",
    "\n",
    "```c\n",
    "short // 2 bytes \n",
    "long // 4 bytes  \n",
    "signed // com sinal\n",
    "unsigned // sem sinal\n",
    "```\n",
    "\n",
    "O formato de leitura e escrita de _short_ e _long_ é %h e %l. O prefixo _signed_ não é necessário, pois é o padrão. O formato de leitura e escrita de _unsigned_ é %u.\n",
    "\n",
    "Tipo da variável   | N° de bytes | Valor mínimo | Valor máximo\n",
    "------------------ | ------------|--------------|-------------\n",
    "int                | 2           | -32 768      | 32 767\n",
    "short int          | 2           | -32 768      | 32 767\n",
    "long int           | 4           |-2 147 483 648| 2 147 483 647\n",
    "unsigned int       | 2           | 0            | 65 535\n",
    "unsigned short int | 2           | 0            | 65 535\n",
    "unsigned long int  | 4           | 0            | 4 294 967 295"
   ]
  },
  {
   "cell_type": "markdown",
   "metadata": {},
   "source": [
    "#### Float, double e notação científica\n",
    "\n",
    "Variáveis que armazenam valores com parte decimal, também chamadas de reais ou ponto flutuante. O formato de leitura e escrita é %f.\n",
    "\n",
    "```c\n",
    "float // 4 Bytes\n",
    "double // 8 Bytes\n",
    "```\n",
    "\n",
    "* Notação científica:\n",
    "\n",
    "```c\n",
    "float f=12.53E78;\n",
    "```"
   ]
  },
  {
   "cell_type": "markdown",
   "metadata": {},
   "source": [
    "#### Tipo char\n",
    "\n",
    "- Variáveis que permitem armazenar um **Único caractere** (_char_ não armazena strings).\n",
    "- Sempre usa 1 Byte (armazena valores entre 0 a 256.\n",
    "- O formato de leitura e escrita é %c.\n",
    "- Permite armazenar caracteres especiais como '\\n', '\\t'.\n",
    "\n",
    "```c\n",
    "char c = 'A';\n",
    "char b = '\\n';\n",
    "char a = '\\'';\n",
    "```"
   ]
  },
  {
   "cell_type": "markdown",
   "metadata": {},
   "source": [
    "#### A tabela ascii\n",
    "\n",
    "ASCII (American standard code for information interchange - código padrão americano para intercâmbio de informações) é um código binário que codifica um conjunto de 128 sinais, 95 (letras, sinais de pontuação e sinais matemáticos) e 33 sinais de controle (exemplo ESPACE e ENTER, que não tem representação gráfica), utilizando 7 bits para representar todos os seus símbolos.\n",
    "\n",
    "Para consultar a rabela ASCII utilize o comando no terminal do Shell:\n",
    "\n",
    "```sh\n",
    "~$ man ascii\n",
    "```\n",
    "\n",
    "O \"desenho\" da letra é representado internamente como um número."
   ]
  },
  {
   "cell_type": "markdown",
   "metadata": {},
   "source": [
    "## Exercícios\n",
    "\n",
    "1. Escreva um programa em C que peça ao usuário dois inteiros e apresente o resultado da realização das operações aritméticas tradicionais.\n",
    "\n",
    "2. Escreva um programa em C que solicite um determinado número de segundos e, em seguida, indique quantas horas, minutos e segundos esse valor representa.\n",
    "\n",
    "3. Escreva um programa em C que solicite um determinado número real e mostre qual a sua parte inteira e sua parte fracionária.\n",
    "\n",
    "4. Escreva um programa que solicite ao usuário uma determinada data e a mostre em seguida no formato dd/mm/aaaa.\n",
    "\n",
    "5. Escreva um programa que solicite ao usuário uma determinada data no formato aaaa-mm-dd e a mostra em seguida no formato dd/mm/aaaa."
   ]
  }
 ],
 "metadata": {
  "kernelspec": {
   "display_name": "C",
   "language": "c",
   "name": "c"
  },
  "language_info": {
   "file_extension": ".c",
   "mimetype": "text/plain",
   "name": "c"
  }
 },
 "nbformat": 4,
 "nbformat_minor": 4
}
